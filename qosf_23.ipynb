{
 "cells": [
  {
   "cell_type": "code",
   "execution_count": 1,
   "id": "3726802c-c6b7-414f-8142-d355cd10d3d2",
   "metadata": {},
   "outputs": [],
   "source": [
    "import qiskit\n",
    "from qiskit import QuantumRegister, ClassicalRegister, QuantumCircuit, Aer,execute, transpile"
   ]
  },
  {
   "cell_type": "markdown",
   "id": "506f772e-7a44-4eaf-9ed9-470d7976a84b",
   "metadata": {},
   "source": [
    "### Idea:\n",
    "##### Step 1: Take the given integer (say a_int) and represent it in a quantum circuit in binary form (say a).\n",
    "##### Step 2: Implement a quantum circuit to take the first element of the list (say b) and find its two's complement form (which is equivalent to the negative of the number) (say b_tcomp).\n",
    "##### Step 3: Implement a quantum circuit to add given integer (a) and two's complement of b (b_tcomp) from step2.  {Essentially I am just doing (a-b) arithmetics}\n",
    "##### Step 4: On measuring the above quantum circuit, convert the resulting binary string to an integer (say sum). {Classical post-processing}\n",
    "##### Step 5: Check if the resulting integer (sum) belongs to the circuit and it is not equal to the initial integer we took (b).\n",
    "##### Step 6: If Step 5 is satisfied, print the answer = (b,sum). If Step 5 is not satisfied, repeat the algorithm by taking the next number in the list from Step 2.\n",
    "\n",
    "##### The advantage of this algorithm is that it takes maximum of only 'length(prime_number_list)/2' number of steps to find the answer.\n",
    "##### Note: This algorithm stops once it finds a set of answers and thus prints only one set of answers. Ex: a = 18 ; list = [1,3,5,7,11,13,15], we have multiple solutions here like: (3,15); (7,11) ; (15,3). But this algorithm just prints out the first answer i.e., (3,15).\n",
    "##### This algorithm can be further modified a bit to find all the solutions very easily."
   ]
  },
  {
   "cell_type": "code",
   "execution_count": 2,
   "id": "b62d9332-4186-4af2-9f31-dd9e9017574e",
   "metadata": {},
   "outputs": [],
   "source": [
    "def find_the_prime_numbers(a_int,b_list):\n",
    "    b_list = b_list\n",
    "    a = bin(a_int)[2:][::-1]\n",
    "    answer1 = 0\n",
    "    answer2 = 0\n",
    "    for i in range(len(b_list)):\n",
    "        element_b = b_list[i]\n",
    "        b = bin(element_b)[2:].zfill(len(a))[::-1]\n",
    "\n",
    "        #Step 2: finding two's complement of b\n",
    "        q1 = QuantumRegister(len(a))\n",
    "        q2 = QuantumRegister(len(a))\n",
    "        q3 = QuantumRegister(len(a)) #carry bits\n",
    "        c = ClassicalRegister(len(a))\n",
    "        qc = QuantumCircuit(q1,q2,q3,c)\n",
    "        #encoding b\n",
    "        for i in range(len(b)):\n",
    "            if int(b[i])==1:\n",
    "                qc.x(q1[i])\n",
    "        qc.barrier()\n",
    "        qc.x(q1[:])\n",
    "        qc.x(q3[-1])\n",
    "        qc.barrier()\n",
    "        qc.x(q2[0])\n",
    "        #Adder circuit to add binary bit 1 to b1\n",
    "        #adding q1[0] and q2[0]\n",
    "        qc.ccx(q1[0],q2[0],q3[0])\n",
    "        qc.cx(q1[0],q2[0])\n",
    "        qc.barrier()\n",
    "        for i in range(1,len(b)):\n",
    "            qc.ccx(q1[i],q3[i-1],q3[i])\n",
    "            qc.cx(q1[i],q3[i-1])\n",
    "            qc.ccx(q3[i-1],q2[i],q3[i])\n",
    "            qc.cx(q3[i-1],q2[i])\n",
    "            qc.barrier()\n",
    "        qc.measure(q2[:],c[:])\n",
    "        result = execute(qc,Aer.get_backend('qasm_simulator')).result()\n",
    "        counts = result.get_counts().keys()\n",
    "        b_tcomp = [(outcome) for outcome in counts][0]\n",
    "\n",
    "        #Step 3:adding a and b_tcomp\n",
    "        a = bin(a_int)[2:].zfill(len(b_tcomp))  #Rewriting 'a' to make its length equivalent to length of two's complement of 'b'\n",
    "        q1 = QuantumRegister(len(a))\n",
    "        q2 = QuantumRegister(len(b_tcomp))\n",
    "        q3 = QuantumRegister(len(a))\n",
    "        c = ClassicalRegister(len(a))\n",
    "        qc1 = QuantumCircuit(q1,q2,q3,c)\n",
    "        #encoding a\n",
    "        for i in range(len(a)):\n",
    "            if int(a[i])==1:\n",
    "                qc1.x(q1[i])\n",
    "        #encoding b_tcomp\n",
    "        for i in range(len(b_tcomp)):\n",
    "            if int(b_tcomp[i])==1:\n",
    "                qc1.x(q2[i])\n",
    "        #adding both\n",
    "        qc1.ccx(q1[len(a)-1],q2[len(a)-1],q3[len(a)-1])\n",
    "        qc1.cx(q1[len(a)-1],q2[len(a)-1])\n",
    "        qc1.barrier()\n",
    "        for i in range(2,len(a)+1):\n",
    "            qc1.ccx(q1[len(a)-i],q3[len(a)-i+1],q3[len(a)-i])\n",
    "            qc1.cx(q1[len(a)-i],q3[len(a)-i+1])\n",
    "            qc1.ccx(q2[len(a)-i],q3[len(a)-i+1],q3[len(a)-i])\n",
    "            qc1.cx(q3[len(a)-i+1],q2[len(a)-i])\n",
    "            qc1.barrier()\n",
    "        qc1.measure(q2[:],c[:])\n",
    "        #print(qc1.depth())\n",
    "        #result\n",
    "        t_qc1 = transpile(qc1,Aer.get_backend('qasm_simulator'),optimization_level=2)\n",
    "        result = execute(t_qc1,Aer.get_backend('qasm_simulator')).result()\n",
    "        counts = result.get_counts().keys()\n",
    "        sum_bin = [(outcome) for outcome in counts][0][::-1]\n",
    "        sum = int(sum_bin,2)\n",
    "\n",
    "        #Step 4,5:classical post-processing \n",
    "        new_b = [x for x in b_list if x!=element_b]\n",
    "        for i in range(len(new_b)):\n",
    "            if new_b[i]==sum:\n",
    "                answer1 = element_b\n",
    "                answer2 = sum\n",
    "                return \"{},{}\".format(answer1,answer2)       #Prints the answers if they exist or else prints nothing."
   ]
  },
  {
   "cell_type": "code",
   "execution_count": 3,
   "id": "0732821b-5e0a-431b-b079-d6316367be82",
   "metadata": {},
   "outputs": [
    {
     "name": "stdout",
     "output_type": "stream",
     "text": [
      "3,15\n"
     ]
    }
   ],
   "source": [
    "a = 18\n",
    "b = [1,3,5,7,11,13,15]\n",
    "A = find_the_prime_numbers(a,b)\n",
    "print(A)"
   ]
  }
 ],
 "metadata": {
  "kernelspec": {
   "display_name": "Python 3 (ipykernel)",
   "language": "python",
   "name": "python3"
  },
  "language_info": {
   "codemirror_mode": {
    "name": "ipython",
    "version": 3
   },
   "file_extension": ".py",
   "mimetype": "text/x-python",
   "name": "python",
   "nbconvert_exporter": "python",
   "pygments_lexer": "ipython3",
   "version": "3.11.5"
  }
 },
 "nbformat": 4,
 "nbformat_minor": 5
}
